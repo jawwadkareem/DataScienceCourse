{
 "cells": [
  {
   "cell_type": "markdown",
   "id": "4c0e9dde-b9a0-4802-b3c9-983702fca5f0",
   "metadata": {},
   "source": [
    "# Data Science Tools and Ecosystem"
   ]
  },
  {
   "cell_type": "markdown",
   "id": "eb328a98-7e74-4936-834e-2ac5477e1b5c",
   "metadata": {
    "tags": []
   },
   "source": [
    "**In this notebook, Data Science Tools and Ecosystem are summarized.**"
   ]
  },
  {
   "cell_type": "markdown",
   "id": "5890267a-cfeb-422b-b520-56c42480744e",
   "metadata": {
    "tags": []
   },
   "source": [
    "Some of the popular languages that Data Scientists use are:\n",
    "1. Python\n",
    "2. R\n",
    "3. Julia\n",
    "    "
   ]
  },
  {
   "cell_type": "markdown",
   "id": "038a09fc-5cf0-43ba-b96f-39c5502e70f0",
   "metadata": {},
   "source": [
    "Some of the commonly used libraries used by Data Scientists include:\n",
    "1. Numpy\n",
    "2. Pandas\n",
    "3. Seaborn\n",
    "4. Matplotlib\n"
   ]
  },
  {
   "cell_type": "markdown",
   "id": "6b9cc681-0944-470d-a8ee-4bc12d63b97b",
   "metadata": {},
   "source": [
    "| Data Science Tools |\n",
    "|-------------------|\n",
    "| Jupyter Notebook   |\n",
    "| RStudio           |\n",
    "| VSCode  |\n"
   ]
  },
  {
   "cell_type": "markdown",
   "id": "e29fb13c-28fa-45fc-8f1b-b6a13e149539",
   "metadata": {},
   "source": [
    "### Below are a few examples of evaluating arithmetic expressions in Python.\n"
   ]
  },
  {
   "cell_type": "code",
   "execution_count": 11,
   "id": "6ba9a9fe-a43b-4838-ac86-e4e7916bc952",
   "metadata": {
    "tags": []
   },
   "outputs": [
    {
     "data": {
      "text/plain": [
       "17"
      ]
     },
     "execution_count": 11,
     "metadata": {},
     "output_type": "execute_result"
    }
   ],
   "source": [
    "#  This a simple arithmetic expression to mutiply then add integers\n",
    "(3*4)+5"
   ]
  },
  {
   "cell_type": "code",
   "execution_count": 13,
   "id": "b1c456ac-2bb2-489d-8752-d82d86032f7e",
   "metadata": {
    "tags": []
   },
   "outputs": [
    {
     "name": "stdout",
     "output_type": "stream",
     "text": [
      "200 minutes in hours = 3.3333333333333335\n"
     ]
    }
   ],
   "source": [
    "# This will convert 200 minutes to hours by diving by 60\n",
    "print('200 minutes in hours =', 200/60)"
   ]
  },
  {
   "cell_type": "markdown",
   "id": "9aacc290-28f9-4a88-a6aa-401079870bb6",
   "metadata": {},
   "source": [
    "**Objectives:**\n",
    "\n",
    "- Popular languages for Data Science are Python and R.\n",
    "- Popular Python libraries for Data Science are Numpy and Pandas\n",
    "- How to use Github?\n",
    "\n"
   ]
  },
  {
   "cell_type": "markdown",
   "id": "af9981bf-6a93-463c-ae9f-9e5928c31683",
   "metadata": {},
   "source": [
    "## Author\n",
    "\n",
    "Jawwad Kareem\n"
   ]
  },
  {
   "cell_type": "code",
   "execution_count": null,
   "id": "77901683-d6fd-4c5b-9400-516585ade4ad",
   "metadata": {},
   "outputs": [],
   "source": []
  }
 ],
 "metadata": {
  "kernelspec": {
   "display_name": "Python",
   "language": "python",
   "name": "conda-env-python-py"
  },
  "language_info": {
   "codemirror_mode": {
    "name": "ipython",
    "version": 3
   },
   "file_extension": ".py",
   "mimetype": "text/x-python",
   "name": "python",
   "nbconvert_exporter": "python",
   "pygments_lexer": "ipython3",
   "version": "3.7.12"
  }
 },
 "nbformat": 4,
 "nbformat_minor": 5
}
